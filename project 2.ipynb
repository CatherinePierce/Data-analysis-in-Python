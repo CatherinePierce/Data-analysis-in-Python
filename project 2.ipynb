{
 "cells": [
  {
   "cell_type": "code",
   "execution_count": 5,
   "id": "dcd13207-1c21-4860-833d-0765731e6bfc",
   "metadata": {},
   "outputs": [
    {
     "data": {
      "text/plain": [
       "'Задача 1'"
      ]
     },
     "execution_count": 5,
     "metadata": {},
     "output_type": "execute_result"
    }
   ],
   "source": [
    "'''Задача 1'''"
   ]
  },
  {
   "cell_type": "code",
   "execution_count": 362,
   "id": "9ca05e10-572d-4aec-9251-5ee36330074d",
   "metadata": {},
   "outputs": [],
   "source": [
    "def divisible(n,m):\n",
    "    if n%m==0:\n",
    "        return \"True\"\n",
    "    else:\n",
    "        return \"False\""
   ]
  },
  {
   "cell_type": "code",
   "execution_count": 364,
   "id": "aaf60259-1fe9-47ae-94d9-e764f93e9587",
   "metadata": {},
   "outputs": [
    {
     "name": "stdout",
     "output_type": "stream",
     "text": [
      "False\n"
     ]
    }
   ],
   "source": [
    "print(divisible(125,2))"
   ]
  },
  {
   "cell_type": "code",
   "execution_count": 29,
   "id": "2166e0d1-68e9-48e5-863b-b9ee9090cecc",
   "metadata": {},
   "outputs": [
    {
     "data": {
      "text/plain": [
       "'Задача 2'"
      ]
     },
     "execution_count": 29,
     "metadata": {},
     "output_type": "execute_result"
    }
   ],
   "source": [
    "'''Задача 2'''"
   ]
  },
  {
   "cell_type": "code",
   "execution_count": 366,
   "id": "98cdd356-0569-47d7-b726-e76870944a0b",
   "metadata": {},
   "outputs": [],
   "source": [
    "def lrot(list, a):\n",
    "    l=len(list)\n",
    "    if l>a>0:\n",
    "        listone=list[-a:]\n",
    "        f=l-a\n",
    "        s=l+1\n",
    "        list[f:s] = []\n",
    "        listx=listone + list\n",
    "        print(listx)\n",
    "    elif a>l:\n",
    "        k=a%l\n",
    "        listone=list[-k:]\n",
    "        f=l-k\n",
    "        s=l+1\n",
    "        list[f:s] = []\n",
    "        listx=listone + list\n",
    "        print(listx)\n",
    "    elif a==0 or a==l or a==-l:\n",
    "        print(list)\n",
    "    elif -l<a<0:\n",
    "        listone=list[:-a]\n",
    "        s=-a\n",
    "        list[0:s] = []\n",
    "        listx=list + listone\n",
    "        print(listx)\n",
    "    else:\n",
    "        k=-a%l\n",
    "        listone=list[:k]\n",
    "        s=k\n",
    "        list[0:s] = []\n",
    "        listx= list + listone\n",
    "        print(listx)"
   ]
  },
  {
   "cell_type": "code",
   "execution_count": 368,
   "id": "1691f1c5-da49-4b75-8465-c725eb32fe61",
   "metadata": {},
   "outputs": [
    {
     "name": "stdout",
     "output_type": "stream",
     "text": [
      "[7, 5, 1, 3, 4, 2]\n"
     ]
    }
   ],
   "source": [
    "lrot([1,3,4,2,7,5], -1000)"
   ]
  },
  {
   "cell_type": "code",
   "execution_count": 157,
   "id": "b842df5d-9b0c-4440-b049-a71dfd4d6701",
   "metadata": {},
   "outputs": [
    {
     "data": {
      "text/plain": [
       "'Задача 3'"
      ]
     },
     "execution_count": 157,
     "metadata": {},
     "output_type": "execute_result"
    }
   ],
   "source": [
    "'''Задача 3'''"
   ]
  },
  {
   "cell_type": "code",
   "execution_count": 370,
   "id": "1fe8382f-a250-46bf-90fe-7e4d2629fdb4",
   "metadata": {},
   "outputs": [],
   "source": [
    "def minmax(people):\n",
    "    setx=set(people)\n",
    "    setx=sorted(setx)\n",
    "    z=setx[:1]\n",
    "    k=setx[-1:]\n",
    "    data = z + k\n",
    "    sx=tuple(data)\n",
    "    print(sx)"
   ]
  },
  {
   "cell_type": "code",
   "execution_count": 372,
   "id": "13f0fe24-ab00-4a2b-bdb4-98caafb7442f",
   "metadata": {},
   "outputs": [
    {
     "name": "stdout",
     "output_type": "stream",
     "text": [
      "(-7, 1985)\n"
     ]
    }
   ],
   "source": [
    "minmax([1,0,1985,-7,135])"
   ]
  },
  {
   "cell_type": "code",
   "execution_count": 321,
   "id": "99966a10-da7a-4afe-baf4-89056243cbbd",
   "metadata": {},
   "outputs": [
    {
     "data": {
      "text/plain": [
       "'Задача 4'"
      ]
     },
     "execution_count": 321,
     "metadata": {},
     "output_type": "execute_result"
    }
   ],
   "source": [
    "'''Задача 4'''"
   ]
  },
  {
   "cell_type": "code",
   "execution_count": 374,
   "id": "5119f4a2-c46f-4f5e-9e88-749fba0bf356",
   "metadata": {},
   "outputs": [],
   "source": [
    "def multiplications(mn):\n",
    "    a = 1\n",
    "    listA=[]\n",
    "    listB=[]\n",
    "    listC=[]\n",
    "    if mn>0 and type(mn)==int:\n",
    "        for i in range(1, mn+1):\n",
    "            listB.append(i)\n",
    "        for i in range(1, mn+1):\n",
    "            listA = [k*i for k in listB]\n",
    "            listC.append(listA)\n",
    "            listA=[]\n",
    "    print(*listC)"
   ]
  },
  {
   "cell_type": "code",
   "execution_count": 376,
   "id": "1c5a192e-2a77-4187-aa1b-80fd65033178",
   "metadata": {},
   "outputs": [
    {
     "name": "stdout",
     "output_type": "stream",
     "text": [
      "[1, 2, 3, 4, 5, 6, 7, 8, 9] [2, 4, 6, 8, 10, 12, 14, 16, 18] [3, 6, 9, 12, 15, 18, 21, 24, 27] [4, 8, 12, 16, 20, 24, 28, 32, 36] [5, 10, 15, 20, 25, 30, 35, 40, 45] [6, 12, 18, 24, 30, 36, 42, 48, 54] [7, 14, 21, 28, 35, 42, 49, 56, 63] [8, 16, 24, 32, 40, 48, 56, 64, 72] [9, 18, 27, 36, 45, 54, 63, 72, 81]\n"
     ]
    }
   ],
   "source": [
    "multiplications(9)"
   ]
  },
  {
   "cell_type": "code",
   "execution_count": 323,
   "id": "a06e098d-f7fb-4525-9657-f26e5367b7ce",
   "metadata": {},
   "outputs": [
    {
     "data": {
      "text/plain": [
       "'Задача 5'"
      ]
     },
     "execution_count": 323,
     "metadata": {},
     "output_type": "execute_result"
    }
   ],
   "source": [
    "'''Задача 5'''"
   ]
  },
  {
   "cell_type": "code",
   "execution_count": 378,
   "id": "3c77cf79-364a-4f82-b9a3-7db4fc541ee2",
   "metadata": {},
   "outputs": [],
   "source": [
    "def proddigits(staff):\n",
    "    multiplication = 1\n",
    "    while staff>0:\n",
    "        if staff%10 == 0:\n",
    "            staff = staff/10\n",
    "        else:\n",
    "            multiplication = multiplication * (staff%10)\n",
    "            staff = staff//10\n",
    "    return int(multiplication)"
   ]
  },
  {
   "cell_type": "code",
   "execution_count": 380,
   "id": "42d2fa80-f045-4874-8f43-0d045c542bc4",
   "metadata": {},
   "outputs": [
    {
     "data": {
      "text/plain": [
       "4233600"
      ]
     },
     "execution_count": 380,
     "metadata": {},
     "output_type": "execute_result"
    }
   ],
   "source": [
    "proddigits(74632506475)"
   ]
  },
  {
   "cell_type": "code",
   "execution_count": 325,
   "id": "3361064d-66fb-4033-8781-a27e8c0e0548",
   "metadata": {},
   "outputs": [
    {
     "data": {
      "text/plain": [
       "'Задача 6'"
      ]
     },
     "execution_count": 325,
     "metadata": {},
     "output_type": "execute_result"
    }
   ],
   "source": [
    "'''Задача 6'''"
   ]
  },
  {
   "cell_type": "code",
   "execution_count": 382,
   "id": "1ade6680-c792-4348-867e-c52cf1c26ec3",
   "metadata": {},
   "outputs": [],
   "source": [
    "def perfect(number):\n",
    "    div = []\n",
    "    for i in range (1, number+1):\n",
    "        if number%i==0:\n",
    "            div.append(i)\n",
    "            if i != number//i:\n",
    "                div.append(number//i)\n",
    "    sety = set(div)\n",
    "    sety = sorted(sety)\n",
    "    sety.remove(number)\n",
    "    alpha = sum(sety)\n",
    "    if number == alpha:\n",
    "        print(True)\n",
    "    else:\n",
    "        print(False)"
   ]
  },
  {
   "cell_type": "code",
   "execution_count": 384,
   "id": "8dd87889-55b6-4c17-9d0f-eb7790dccc4a",
   "metadata": {},
   "outputs": [
    {
     "name": "stdout",
     "output_type": "stream",
     "text": [
      "True\n"
     ]
    }
   ],
   "source": [
    "perfect(6)"
   ]
  },
  {
   "cell_type": "code",
   "execution_count": 388,
   "id": "8e20b19c-3353-4028-a475-6bff5ab74d23",
   "metadata": {},
   "outputs": [
    {
     "name": "stdout",
     "output_type": "stream",
     "text": [
      "[6, 28, 496, 8128]\n"
     ]
    }
   ],
   "source": [
    "#долго выводит, подождите, пожалуйста\n",
    "divis = []\n",
    "result = []\n",
    "d = int()\n",
    "i = int()\n",
    "for d in range(1, 10001):\n",
    "    for i in range (1, d):\n",
    "        if d%i==0:\n",
    "            divis.append(i)\n",
    "            if i != d//i and i != 1:\n",
    "                divis.append(d//i)       \n",
    "    setA = set(divis)\n",
    "    setA = sorted(setA)\n",
    "    alpha = sum(setA)\n",
    "    if d == alpha:\n",
    "        result.append(d)\n",
    "    divis = []\n",
    "print(result)"
   ]
  },
  {
   "cell_type": "code",
   "execution_count": 367,
   "id": "565dc30d-f08b-4b02-8357-dadcf95c61dc",
   "metadata": {},
   "outputs": [
    {
     "data": {
      "text/plain": [
       "'Задача 7'"
      ]
     },
     "execution_count": 367,
     "metadata": {},
     "output_type": "execute_result"
    }
   ],
   "source": [
    "'''Задача 7'''"
   ]
  },
  {
   "cell_type": "code",
   "execution_count": 390,
   "id": "48b5eb5b-17eb-4316-ac83-0946b7307c55",
   "metadata": {},
   "outputs": [],
   "source": [
    "import string\n",
    "def palindrome(sent):\n",
    "    sent = sent.replace(\" \", \"\")\n",
    "    tableA = str.maketrans(\"\", \"\", string.punctuation)\n",
    "    sent = sent.translate(tableA)\n",
    "    sentx = sent\n",
    "    sentprob = sent[::-1]\n",
    "    sentx = sentx.lower()\n",
    "    sentprob = sentprob.lower()\n",
    "    if sentx == sentprob:\n",
    "        print(\"True\")\n",
    "    else:\n",
    "        print(\"False\")"
   ]
  },
  {
   "cell_type": "code",
   "execution_count": 392,
   "id": "1bf4dfd9-8433-4197-8a1c-0fbdcbbcc44f",
   "metadata": {},
   "outputs": [
    {
     "name": "stdout",
     "output_type": "stream",
     "text": [
      "True\n"
     ]
    }
   ],
   "source": [
    "palindrome(\"И любит Сева вестибюли!\")"
   ]
  },
  {
   "cell_type": "code",
   "execution_count": 565,
   "id": "fd9d9c07-b2f7-46fc-8b6c-441f07404aad",
   "metadata": {},
   "outputs": [
    {
     "data": {
      "text/plain": [
       "'Задача 8'"
      ]
     },
     "execution_count": 565,
     "metadata": {},
     "output_type": "execute_result"
    }
   ],
   "source": [
    "'''Задача 8'''"
   ]
  },
  {
   "cell_type": "code",
   "execution_count": 394,
   "id": "6c52c4af-f0e3-4624-a39a-c33a58f1323a",
   "metadata": {},
   "outputs": [
    {
     "name": "stdout",
     "output_type": "stream",
     "text": [
      "[34019, 34019, 683205]\n"
     ]
    }
   ],
   "source": [
    "listD=[]\n",
    "with open (r\"C:\\Users\\admin\\tmp\\python-2024-hw2\\words-list-russian.txt\", 'rb') as file:\n",
    "    lines = file.readlines()\n",
    "    lana = len(lines)\n",
    "    listD.append(lana)\n",
    "with open (r\"C:\\Users\\admin\\tmp\\python-2024-hw2\\words-list-russian.txt\", 'rb') as file:\n",
    "    content = file.read()\n",
    "    length = len(content.split())\n",
    "    listD.append(length)\n",
    "    bytik = len(content)\n",
    "    listD.append(bytik)\n",
    "    print(listD)"
   ]
  },
  {
   "cell_type": "code",
   "execution_count": 1342,
   "id": "fbdaf7cc-22ac-47e6-85e3-9ce768ae8bef",
   "metadata": {},
   "outputs": [
    {
     "data": {
      "text/plain": [
       "'Задача 9'"
      ]
     },
     "execution_count": 1342,
     "metadata": {},
     "output_type": "execute_result"
    }
   ],
   "source": [
    "'''Задача 9'''"
   ]
  },
  {
   "cell_type": "code",
   "execution_count": 396,
   "id": "947f681b-12f0-4359-a919-77f78044c523",
   "metadata": {},
   "outputs": [
    {
     "name": "stdout",
     "output_type": "stream",
     "text": [
      "автол\n",
      "автор\n",
      "акр\n",
      "ар\n",
      "арест\n",
      "арк\n",
      "аскер\n",
      "ваер\n",
      "валет\n",
      "вар\n",
      "век\n",
      "веко\n",
      "вектор\n",
      "вера\n",
      "верк\n",
      "верстак\n",
      "вес\n",
      "весло\n",
      "вест\n",
      "ветка\n",
      "ветла\n",
      "влас\n",
      "вокал\n",
      "вол\n",
      "волк\n",
      "вор\n",
      "ворс\n",
      "воск\n",
      "втора\n",
      "ер\n",
      "кал\n",
      "каре\n",
      "карел\n",
      "карст\n",
      "карт\n",
      "картвел\n",
      "кастор\n",
      "кат\n",
      "катер\n",
      "квас\n",
      "квестор\n",
      "квота\n",
      "кларет\n",
      "клот\n",
      "ков\n",
      "кол\n",
      "кола\n",
      "колет\n",
      "кора\n",
      "корвет\n",
      "корсет\n",
      "корт\n",
      "костра\n",
      "кот\n",
      "креол\n",
      "кресло\n",
      "крест\n",
      "кроат\n",
      "кров\n",
      "крот\n",
      "лавр\n",
      "лар\n",
      "латекс\n",
      "левкас\n",
      "лек\n",
      "лектор\n",
      "лерка\n",
      "лес\n",
      "леска\n",
      "лестовка\n",
      "лето\n",
      "леток\n",
      "лов\n",
      "лоск\n",
      "овал\n",
      "окрас\n",
      "орс\n",
      "орт\n",
      "оса\n",
      "осек\n",
      "оскал\n",
      "ост\n",
      "отвал\n",
      "отвар\n",
      "отвес\n",
      "отсев\n",
      "отсек\n",
      "рвота\n",
      "река\n",
      "рекостав\n",
      "ров\n",
      "рол\n",
      "роса\n",
      "рост\n",
      "рота\n",
      "сверка\n",
      "сверло\n",
      "сев\n",
      "севр\n",
      "секатор\n",
      "секта\n",
      "село\n",
      "сера\n",
      "серв\n",
      "сет\n",
      "сетка\n",
      "скало\n",
      "скатол\n",
      "сквер\n",
      "склера\n",
      "скол\n",
      "скот\n",
      "словак\n",
      "сова\n",
      "совет\n",
      "сок\n",
      "солевар\n",
      "солка\n",
      "сор\n",
      "сорт\n",
      "срок\n",
      "старое\n",
      "створка\n",
      "стек\n",
      "стека\n",
      "стекло\n",
      "стекловар\n",
      "стела\n",
      "сток\n",
      "стокер\n",
      "стрела\n",
      "стрелок\n",
      "тавр\n",
      "тавро\n",
      "тал\n",
      "талес\n",
      "тело\n",
      "тесак\n",
      "тесло\n",
      "товар\n",
      "тол\n",
      "торк\n",
      "торс\n",
      "трак\n",
      "трал\n",
      "трек\n",
      "треск\n",
      "трок\n",
      "трос\n",
      "149\n"
     ]
    }
   ],
   "source": [
    "abc='абвгдеёжзийклмнопрстуфхцчшщъыьэюя'\n",
    "wdict=dict([(k,0) for k in abc])\n",
    "rdict=dict([(f,0) for f in abc])\n",
    "listt=[]\n",
    "for l in 'лекарство':\n",
    "    wdict[l] += 1\n",
    "with open (r\"C:\\Users\\admin\\tmp\\python-2024-hw2\\words-list-russian.txt\", 'r', encoding='utf-8') as file:\n",
    "    words = [line.strip() for line in file]\n",
    "    for word in words:\n",
    "        rdict=dict([(f,0) for f in abc])\n",
    "        for s in word:\n",
    "            if s in rdict:\n",
    "                rdict[s] += 1\n",
    "        flag = 0\n",
    "        for i in rdict:\n",
    "            if rdict.get(i)>wdict.get(i):\n",
    "                flag = 1\n",
    "                break\n",
    "        if not flag:\n",
    "            print(word)\n",
    "            listt.append(word)\n",
    "    print(len(listt))"
   ]
  },
  {
   "cell_type": "code",
   "execution_count": 1,
   "id": "64bfb691-4485-4967-89f8-92b2b3375d83",
   "metadata": {
    "scrolled": true
   },
   "outputs": [
    {
     "data": {
      "text/plain": [
       "'Задача 10'"
      ]
     },
     "execution_count": 1,
     "metadata": {},
     "output_type": "execute_result"
    }
   ],
   "source": [
    "'''Задача 10'''"
   ]
  },
  {
   "cell_type": "code",
   "execution_count": 398,
   "id": "8eb154cc-e133-444c-9918-565ab738de0c",
   "metadata": {},
   "outputs": [],
   "source": [
    "from collections import deque\n",
    "def difference(wordA, wordB):\n",
    "    if len(wordA) != len(wordB):\n",
    "        return False\n",
    "    count = sum(1 for a, b in zip(wordA, wordB) if a != b)\n",
    "    return count == 1\n",
    "\n",
    "def wordChain(filetxt, word1, word2):\n",
    "#    abcd='абвгдеёжзийклмнопрстуфхцчшщъыьэюя'\n",
    "#    dictbase=dict([(k,0) for k in abcd])\n",
    "#    dicttest=dict([(f,0) for f in abcd])\n",
    "#    listr=[]\n",
    "    if len(word1) != len(word2):\n",
    "        return []\n",
    "    if filetxt != 'words-list-russian.txt':\n",
    "        return []\n",
    "    else:\n",
    "        with open (r\"C:\\Users\\admin\\tmp\\python-2024-hw2\\words-list-russian.txt\", 'r', encoding='utf-8') as file:\n",
    "            words = [line.strip() for line in file]\n",
    "            \n",
    "            if word1 not in words:\n",
    "                return([])\n",
    "            \n",
    "            if word1 == word2:\n",
    "                return([word1, word2])\n",
    "            \n",
    "            if word2 not in words:\n",
    "                return([])\n",
    "\n",
    "            qu = deque([(word1, [word1])])\n",
    "            already = set([word1])\n",
    "            while qu:\n",
    "                now, path = qu.popleft()\n",
    "                if now == word2:\n",
    "                    return path\n",
    "                for word in words:\n",
    "                    if word not in already and difference(now, word):\n",
    "                        already.add(word)\n",
    "                        qu.append((word, path + [word]))\n",
    "            return None\n",
    "\n",
    "            \n",
    "# далее код для поиска слов с отличной одной буквой от изначального слова            \n",
    "            '''for letter in word1:\n",
    "                dictbase[letter] += 1\n",
    "            qb = sum(dictbase.values())\n",
    "            \n",
    "            for word in words:\n",
    "                dicttest=dict([(f,0) for f in abcd])\n",
    "                for s in word:\n",
    "                    if s in dicttest:\n",
    "                        dicttest[s] += 1\n",
    "                qt = sum(dicttest.values())\n",
    "                if qb == qt:\n",
    "                    flag = 0\n",
    "                    for a,b in zip(word1, word):\n",
    "                        if a!=b:\n",
    "                            flag +=1\n",
    "                        else:\n",
    "                            flag +=0\n",
    "                    if flag == 1:\n",
    "                        listr.append(word)\n",
    "                        if word == word2:\n",
    "                            return([word1, word2])\n",
    "                            break\n",
    "            return(listr)'''"
   ]
  },
  {
   "cell_type": "code",
   "execution_count": 400,
   "id": "5b28ef21-59e1-4e93-9ff3-2906ed1027b5",
   "metadata": {},
   "outputs": [
    {
     "data": {
      "text/plain": [
       "['муха',\n",
       " 'мура',\n",
       " 'тура',\n",
       " 'тара',\n",
       " 'кара',\n",
       " 'каре',\n",
       " 'кафе',\n",
       " 'кафр',\n",
       " 'каюр',\n",
       " 'каюк',\n",
       " 'каик',\n",
       " 'каин',\n",
       " 'клин',\n",
       " 'клон',\n",
       " 'слон']"
      ]
     },
     "execution_count": 400,
     "metadata": {},
     "output_type": "execute_result"
    }
   ],
   "source": [
    "wordChain(\"words-list-russian.txt\", \"муха\", \"слон\")"
   ]
  },
  {
   "cell_type": "code",
   "execution_count": null,
   "id": "fed4f782-1252-4c98-a2d2-6125027988cf",
   "metadata": {},
   "outputs": [],
   "source": []
  }
 ],
 "metadata": {
  "kernelspec": {
   "display_name": "Python 3 (ipykernel)",
   "language": "python",
   "name": "python3"
  },
  "language_info": {
   "codemirror_mode": {
    "name": "ipython",
    "version": 3
   },
   "file_extension": ".py",
   "mimetype": "text/x-python",
   "name": "python",
   "nbconvert_exporter": "python",
   "pygments_lexer": "ipython3",
   "version": "3.12.4"
  }
 },
 "nbformat": 4,
 "nbformat_minor": 5
}
