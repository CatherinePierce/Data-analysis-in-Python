{
 "cells": [
  {
   "cell_type": "code",
   "execution_count": 56,
   "metadata": {},
   "outputs": [],
   "source": [
    "# таймер для задания №1\n",
    "from timeit import timeit\n",
    "def mytimeit(fun, x, y):\n",
    "    n = 100\n",
    "    t = timeit(lambda: fun(x, y), number = n)\n",
    "    return t/n"
   ]
  },
  {
   "cell_type": "code",
   "execution_count": 83,
   "metadata": {},
   "outputs": [],
   "source": [
    "# задание 1. функция 1 (по циклам)\n",
    "import numpy as np\n",
    "def sumprod1(a, b):\n",
    "    if type(a) != np.ndarray or type(b) != np.ndarray: # если ввели вместо а или b не массив, возвращаем ошибку. Сделала это по собственной инициативе на случай \"а вдруг...\"\n",
    "        return \"Error\"\n",
    "    s = 0\n",
    "    listwork=[]\n",
    "    for i in a:\n",
    "        for j in b:\n",
    "            s = i*j # по приведенной в дз формуле умножаем втупую \"каждое на каждое\"\n",
    "            listwork.append(s) # добавляем полученные значения в список\n",
    "    print(sum(listwork)) # суммируем значения в списке и выводим"
   ]
  },
  {
   "cell_type": "code",
   "execution_count": 58,
   "metadata": {},
   "outputs": [],
   "source": [
    "# задание 1. функция 2 (мумнож)\n",
    "def sumprod2(c, d):\n",
    "    m1 = c[np.newaxis,:] # переводим введенный одномерный массив в двухмерный, сказав, что это строка\n",
    "    m2 = d[:,np.newaxis] # то же самое для второго массива, но теперь это столбец\n",
    "    lenc = len(c)\n",
    "    lend = len(d)\n",
    "    m3 = np.ones((lenc, lend)) # задаем матрицу из единичек размером \"длина первой * длину второй\"\n",
    "    res = np.dot(m1, m3) # узнала из последней лекции, что есть отдельная функция для умножения матриц\n",
    "    res1 = np.dot(res, m2)\n",
    "    numb = res1.item() # достаем из полученного двухмерного массива только значение\n",
    "    return numb"
   ]
  },
  {
   "cell_type": "code",
   "execution_count": 59,
   "metadata": {},
   "outputs": [],
   "source": [
    "# задание 1. функция 3 (по элементам)\n",
    "def sumprod3(fir, sec): # сделано согласно информации из последней лекции\n",
    " fir = fir[np.newaxis,:] # используем метод broadcasting: дублирование строк до нужной размерности\n",
    " sec = sec[:,np.newaxis] # дублирование столбцов до нужной размерности\n",
    " thir = fir*sec # поэлементное (не путать с матричным из предыдущего пункта!) умножение матриц\n",
    " four = np.sum(thir) # сумма полученных произведений\n",
    " return four"
   ]
  },
  {
   "cell_type": "code",
   "execution_count": 96,
   "metadata": {},
   "outputs": [],
   "source": [
    "x = np.linspace(1, 11, num=2000) # задаем одномерный массив от 1 до 11, состоящий из 2000 равномерно распределенных чисел"
   ]
  },
  {
   "cell_type": "code",
   "execution_count": 97,
   "metadata": {},
   "outputs": [],
   "source": [
    "y = np.linspace(1, 14, num=1000) # аналогично от 1 до 14 из 1000 чисел"
   ]
  },
  {
   "cell_type": "code",
   "execution_count": 91,
   "metadata": {},
   "outputs": [
    {
     "name": "stdout",
     "output_type": "stream",
     "text": [
      "90000000.00000519\n"
     ]
    }
   ],
   "source": [
    "sumprod1(x, y) # первая функция (она правда адекватно работает без таймера)"
   ]
  },
  {
   "cell_type": "code",
   "execution_count": 98,
   "metadata": {},
   "outputs": [
    {
     "name": "stdout",
     "output_type": "stream",
     "text": [
      "90000000.00000519\n",
      "90000000.00000519\n",
      "90000000.00000519\n",
      "90000000.00000519\n",
      "90000000.00000519\n",
      "90000000.00000519\n",
      "90000000.00000519\n",
      "90000000.00000519\n",
      "680 ms ± 62.5 ms per loop (mean ± std. dev. of 7 runs, 1 loop each)\n"
     ]
    }
   ],
   "source": [
    "%%timeit # этот таймер с горем пополам, через семь кругов ада (читать: циклов), но выдает время \n",
    "sumprod1(x, y)\n",
    "#print(mytimeit(sumprod1, x, y)) с этим таймером получился бесконечный цикл, иногда еще и с другими значениями функции. Комп жутко вис, питон вылетал. Дизлайк, отписка)\n",
    "# Вывод: жутко долгий и энергозатратный для компа метод подсчета. Так глядишь, и не переживет следующее ваше дз (впрочем, как и я)."
   ]
  },
  {
   "cell_type": "code",
   "execution_count": 99,
   "metadata": {},
   "outputs": [
    {
     "name": "stdout",
     "output_type": "stream",
     "text": [
      "89999999.99999997\n",
      "0.010830581999616697\n"
     ]
    }
   ],
   "source": [
    "print(sumprod2(x,y))\n",
    "print(mytimeit(sumprod2, x, y))\n",
    "# Вывод: этот метод подсчета уже значительно быстрее и эффективнее, однако очень затратный по памяти. При больших значниях будет не комильфо"
   ]
  },
  {
   "cell_type": "code",
   "execution_count": 101,
   "metadata": {},
   "outputs": [
    {
     "name": "stdout",
     "output_type": "stream",
     "text": [
      "90000000.00000001\n",
      "0.02503760699997656\n"
     ]
    }
   ],
   "source": [
    "print(sumprod3(x, y))\n",
    "print(mytimeit(sumprod3, x, y))\n",
    "# самый эффективный и не затратный по памяти метод подсчета"
   ]
  },
  {
   "cell_type": "code",
   "execution_count": 103,
   "metadata": {},
   "outputs": [],
   "source": [
    "# задание 2. Только не это - календарь... \n",
    "class Date: \n",
    "    def __init__(self, day, month, year): \n",
    "        self.day = day \n",
    "        self.month = month \n",
    "        self.year = year \n",
    "         \n",
    "    def __str__(self): \n",
    "        return f\"{self.day:02}.{self.month:02}.{self.year}\" # выводим красивую дату в человеческом виде \"01.01.2024\"\n",
    "     \n",
    "    def compare(self, other): # логично сравнивать даты, начиная с конца\n",
    "        if self.year < other.year: # если разница уже в годах, даьше можно не анализировать\n",
    "            return int(-1) \n",
    "        elif self.year > other.year: \n",
    "            return int(1) \n",
    "        else: \n",
    "            if self.month < other.month: # если год одинаковый, но разница в месяцах - опять же сразу выводим ответ\n",
    "                return int(-1) \n",
    "            elif self.month > other.month: \n",
    "                return int(1) \n",
    "            else: \n",
    "                if self.day < other.day: # последний этап, последний шанс: сравниваем дни при прочих равных\n",
    "                    return int(-1) \n",
    "                elif self.day > other.day: \n",
    "                    return int(1) \n",
    "                else: \n",
    "                    return int(0) # если всё идентичное\n",
    "\n",
    "    def add(self, number): # на самом деле эта функция была хронологически написана мной после следующей, так что лучше сначала посмотреть на нее и её комментарии, кот я здесь дублировать не хочу лищний раз\n",
    "        sum_year = (self.year - 1) // 4 * 366 + (self.year - ((self.year - 1)// 4)) * 365 + 1\n",
    "        for z in range(1, self.year):\n",
    "            if z % 100 == 0 and z % 400 != 0: # функция для того, чтобы убрать лишние дни в годах 1700, 1800 и иже с ними, кот выше мы засчитали как високосные\n",
    "                sum_year -= 1\n",
    "        if self.year % 4 != 0 or (self.year % 100 == 0 and self.year % 400 != 0): \n",
    "            smonth = {1: 31, \n",
    "                    2: 28, \n",
    "                    3: 31, \n",
    "                    4: 30, \n",
    "                    5: 31, \n",
    "                    6: 30, \n",
    "                    7: 31, \n",
    "                    8: 31, \n",
    "                    9: 30, \n",
    "                    10: 31, \n",
    "                    11: 30, \n",
    "                    12: 31} \n",
    "        else: \n",
    "            smonth = {1: 31, \n",
    "                    2: 29, \n",
    "                    3: 31, \n",
    "                    4: 30, \n",
    "                    5: 31, \n",
    "                    6: 30, \n",
    "                    7: 31, \n",
    "                    8: 31, \n",
    "                    9: 30, \n",
    "                    10: 31, \n",
    "                    11: 30, \n",
    "                    12: 31}\n",
    "        d = 1 \n",
    "        summ = 0 \n",
    "        for d in range(1, self.month): \n",
    "            summ += smonth[d] \n",
    "            d += 1\n",
    "        summ += self.day + sum_year\n",
    "        year_new = 0\n",
    "        summ += number # момент истины: прибавляем к нашей дате\n",
    "        year_new = summ // 1461 # делим на сумму дней в четырех годах: 1 високосный + 3 не високосных\n",
    "        summ = summ - year_new * 1461 # \n",
    "        year_new *= 4 # сколько неполных лет будет выводиться\n",
    "        if summ >= 366: # мы делили на сумму дней в четырех годах (1461), но ведь после очередного такого витка мог пройти всего лишь год... или два... или три...\n",
    "            summ -= 366\n",
    "            year_new += 1\n",
    "        if summ / 365 != 1: # поэтому дописываем всё это, чтобы исключить остатки лет, кот нам не удалось исключить ранее\n",
    "            while summ >= 365:\n",
    "                summ -= 365\n",
    "                year_new += 1 # наконец, сколько полных лет будет выводиться\n",
    "        for i in range(1, year_new):\n",
    "            if i % 100 == 0 and i % 400 != 0: # здесь на контрасте с тем, что мы делали в начале, восстанавливаем справедливость (и число дней в не високосных 1700, 1800 и тд)\n",
    "                summ += 1\n",
    "        #print(summ)        \n",
    "        if year_new % 4 != 0 or (year_new % 100 == 0 and year_new % 400 != 0): # задаем опять словарики\n",
    "            newmonth = {1: 31, \n",
    "                    2: 28, # для не високосных\n",
    "                    3: 31, \n",
    "                    4: 30, \n",
    "                    5: 31, \n",
    "                    6: 30, \n",
    "                    7: 31, \n",
    "                    8: 31, \n",
    "                    9: 30, \n",
    "                    10: 31, \n",
    "                    11: 30, \n",
    "                    12: 31} \n",
    "        else: \n",
    "            newmonth = {1: 31, \n",
    "                    2: 29, # для високосных\n",
    "                    3: 31, \n",
    "                    4: 30, \n",
    "                    5: 31, \n",
    "                    6: 30, \n",
    "                    7: 31, \n",
    "                    8: 31, \n",
    "                    9: 30, \n",
    "                    10: 31, \n",
    "                    11: 30, \n",
    "                    12: 31}\n",
    "\n",
    "        x = 1\n",
    "        qol = 0\n",
    "        while summ > newmonth[x]: #считаем, сколько месяцев должно выводиться\n",
    "            summ -= newmonth[x]\n",
    "            x += 1 # число месяцев\n",
    "        newday = summ\n",
    "        return f\"{newday:02}.{x:02}.{year_new}\" # выводим полученную дату в человеческом формате\n",
    "\n",
    " \n",
    "    def diff(self, other): \n",
    "        sum_first_year = (self.year - 1) // 4 * 366 + (self.year - ((self.year - 1)// 4)) * 365 # переводим год из первой даты в дни. Интересно, что сначала я не отнимала \"-1\" от года и удивлялась, почему же при разных датах у меня расхождение с ответом в 1-2 дня. \n",
    "        # Через час напряженных раздумий я наконец сообразила, что условно 2024-ый - високосный год. Но он делится на 4. Поэтому если не отнимать \"-1\", то комп будет считать, что високосный год был перед ним (т.е. 2023-ий), что, очевидно, неверно.\n",
    "        #print(sum_first_year) \n",
    "        sum_sec_year = (other.year - 1)// 4 * 366 + (other.year - ((other.year - 1)// 4)) * 365 # делаем всё то же самое для второго года. Открытие года (как бы иронично это здесь ни звучало): мы можем переменные задавать не только через self, возвращающий нас к первой дате, но и через other, что означает дату другую.\n",
    "        #print(sum_sec_year)\n",
    "        if self.year % 4 != 0 or (self.year % 100 == 0 and self.year % 400 != 0): # я знаю, что это можно было сделать умнее через переобозначение ключа \"2\" (ака месяца февраля), но мне проще было сделать наглядно, чтобы быть точно уверенной, что никто из нас двоих (меня и питона) еще не сошел с ума.\n",
    "            smonth = {1: 31, # еще одно открытие года: годы 1700, 1800, 1900 не считаются високосными!!\n",
    "                    2: 28, # для не високосных\n",
    "                    3: 31, \n",
    "                    4: 30, \n",
    "                    5: 31, \n",
    "                    6: 30, \n",
    "                    7: 31, \n",
    "                    8: 31, \n",
    "                    9: 30, \n",
    "                    10: 31, \n",
    "                    11: 30, \n",
    "                    12: 31} \n",
    "        else: \n",
    "            smonth = {1: 31, \n",
    "                    2: 29, # для високосных\n",
    "                    3: 31, \n",
    "                    4: 30, \n",
    "                    5: 31, \n",
    "                    6: 30, \n",
    "                    7: 31, \n",
    "                    8: 31, \n",
    "                    9: 30, \n",
    "                    10: 31, \n",
    "                    11: 30, \n",
    "                    12: 31} \n",
    "        if other.year % 4 != 0 or (other.year % 100 == 0 and other.year % 400 != 0): \n",
    "            othmonth = {1: 31, \n",
    "                    2: 28, # для не високосных второго года\n",
    "                    3: 31, \n",
    "                    4: 30, \n",
    "                    5: 31, \n",
    "                    6: 30, \n",
    "                    7: 31, \n",
    "                    8: 31, \n",
    "                    9: 30, \n",
    "                    10: 31, \n",
    "                    11: 30, \n",
    "                    12: 31} \n",
    "        else: \n",
    "            othmonth = {1: 31, \n",
    "                    2: 29, # для високосных второго года\n",
    "                    3: 31, \n",
    "                    4: 30, \n",
    "                    5: 31, \n",
    "                    6: 30, \n",
    "                    7: 31, \n",
    "                    8: 31, \n",
    "                    9: 30, \n",
    "                    10: 31, \n",
    "                    11: 30, \n",
    "                    12: 31} \n",
    "        d = 1 \n",
    "        summ = 0 \n",
    "        for d in range(1, self.month): # он сам находит нужный словарь и достает оттуда месяцы, выраженные в днях, не считая последнего\n",
    "            summ += smonth[d] \n",
    "            d += 1 \n",
    "        summ += self.day + sum_first_year # прибавляет к месяцам еще дни и годы (всё предварительно выражено в днях)\n",
    "        f = 1 \n",
    "        sumk = 0 \n",
    "        for f in range(1, other.month): # аналогично для второй даты\n",
    "            sumk += othmonth[f] \n",
    "            f += 1 \n",
    "        sumk += other.day + sum_sec_year  \n",
    "        nes = summ - sumk # находит разницу в днях между двумя датами\n",
    "        return nes"
   ]
  },
  {
   "cell_type": "code",
   "execution_count": 115,
   "metadata": {},
   "outputs": [],
   "source": [
    "d1 = Date(19, 9, 2024)"
   ]
  },
  {
   "cell_type": "code",
   "execution_count": 121,
   "metadata": {},
   "outputs": [],
   "source": [
    "d2 = Date(13, 8, 2025)"
   ]
  },
  {
   "cell_type": "code",
   "execution_count": 106,
   "metadata": {},
   "outputs": [
    {
     "data": {
      "text/plain": [
       "2024"
      ]
     },
     "execution_count": 106,
     "metadata": {},
     "output_type": "execute_result"
    }
   ],
   "source": [
    "d1.year"
   ]
  },
  {
   "cell_type": "code",
   "execution_count": 107,
   "metadata": {},
   "outputs": [
    {
     "data": {
      "text/plain": [
       "9"
      ]
     },
     "execution_count": 107,
     "metadata": {},
     "output_type": "execute_result"
    }
   ],
   "source": [
    "d1. month"
   ]
  },
  {
   "cell_type": "code",
   "execution_count": 108,
   "metadata": {},
   "outputs": [
    {
     "data": {
      "text/plain": [
       "19"
      ]
     },
     "execution_count": 108,
     "metadata": {},
     "output_type": "execute_result"
    }
   ],
   "source": [
    "d1.day"
   ]
  },
  {
   "cell_type": "code",
   "execution_count": 109,
   "metadata": {},
   "outputs": [
    {
     "name": "stdout",
     "output_type": "stream",
     "text": [
      "19.09.2024\n"
     ]
    }
   ],
   "source": [
    "print(d1)"
   ]
  },
  {
   "cell_type": "code",
   "execution_count": 122,
   "metadata": {},
   "outputs": [
    {
     "data": {
      "text/plain": [
       "-1"
      ]
     },
     "execution_count": 122,
     "metadata": {},
     "output_type": "execute_result"
    }
   ],
   "source": [
    "d1.compare(d2)"
   ]
  },
  {
   "cell_type": "code",
   "execution_count": 123,
   "metadata": {},
   "outputs": [
    {
     "data": {
      "text/plain": [
       "1"
      ]
     },
     "execution_count": 123,
     "metadata": {},
     "output_type": "execute_result"
    }
   ],
   "source": [
    "d2.compare(d1)"
   ]
  },
  {
   "cell_type": "code",
   "execution_count": 124,
   "metadata": {},
   "outputs": [
    {
     "data": {
      "text/plain": [
       "0"
      ]
     },
     "execution_count": 124,
     "metadata": {},
     "output_type": "execute_result"
    }
   ],
   "source": [
    "d1.compare(d1)"
   ]
  },
  {
   "cell_type": "code",
   "execution_count": 125,
   "metadata": {},
   "outputs": [
    {
     "data": {
      "text/plain": [
       "328"
      ]
     },
     "execution_count": 125,
     "metadata": {},
     "output_type": "execute_result"
    }
   ],
   "source": [
    "d2.diff(d1)"
   ]
  },
  {
   "cell_type": "code",
   "execution_count": 126,
   "metadata": {},
   "outputs": [
    {
     "data": {
      "text/plain": [
       "-328"
      ]
     },
     "execution_count": 126,
     "metadata": {},
     "output_type": "execute_result"
    }
   ],
   "source": [
    "d1.diff(d2)"
   ]
  },
  {
   "cell_type": "code",
   "execution_count": 127,
   "metadata": {},
   "outputs": [
    {
     "data": {
      "text/plain": [
       "'01.02.2026'"
      ]
     },
     "execution_count": 127,
     "metadata": {},
     "output_type": "execute_result"
    }
   ],
   "source": [
    "d1.add(500)"
   ]
  },
  {
   "cell_type": "code",
   "execution_count": 128,
   "metadata": {},
   "outputs": [
    {
     "data": {
      "text/plain": [
       "'08.05.2023'"
      ]
     },
     "execution_count": 128,
     "metadata": {},
     "output_type": "execute_result"
    }
   ],
   "source": [
    "d1.add(-500)"
   ]
  },
  {
   "cell_type": "code",
   "execution_count": 131,
   "metadata": {},
   "outputs": [
    {
     "name": "stdout",
     "output_type": "stream",
     "text": [
      "Mean dollar: 0.0010209638269913024\n",
      "Standard deviation dollar: 0.00855671353654656\n"
     ]
    }
   ],
   "source": [
    "# задание 3. Аминь. Доллар\n",
    "\n",
    "import numpy as np\n",
    "import re \n",
    "import urllib.request \n",
    "from bs4 import BeautifulSoup \n",
    "# далее всё как в лекции: скачиваем данные с сайта по ссылке, предварительно поправив ссылку на нужные даты (уточнили у Сергея, что начинать надо именно с 31.12.2022, чтобы учесть доходность за первый день 2023 г.)\n",
    "url = 'https://cbr.ru/currency_base/dynamics/?UniDbQuery.Posted=True&UniDbQuery.so=1&UniDbQuery.mode=1&UniDbQuery%20date_req1=&UniDbQuery.date_req2=&UniDbQuery.VAL_NM_RQ=R01235&UniDbQuery.From=31.12.2022&UniDbQuery.To=31.12.2023' \n",
    "html = urllib.request.urlopen(url).read() # читаем, что накачали\n",
    "soup = BeautifulSoup(html, 'html.parser') # парсинг\n",
    "tags = soup.find_all('td') \n",
    "data = [] \n",
    "for tag in tags: \n",
    "    text = tag.get_text().replace('<td>1</td>', ' ').strip() # убираем указанные теги (в лекции были другие, но в нашем датасете отображаются именно эти)\n",
    "    data.append(text) # добавляем полученное в новый список\n",
    "data1 = [] \n",
    "for i in data: \n",
    "    if i == '1' or i == 'Доллар США': # жестоко и без сожалений избавляемся от единиц (измерения, судя по сайту) и надписи валюты в начале\n",
    "        data.remove(i) \n",
    "data = [q for q in data if '.' not in q] # добавляем в новый лист все элементы из предыдущего, где не было точек (то бишь откидываем даты курсов)\n",
    "data = [v.replace(',', '.') for v in data] # чтобы дальше превратить строки из скаченных чисел в вещественные числа, объясняем питону, что это числа через точку, а не через запятую, как было в оригинальном датасете\n",
    "data1 = [float(t) for t in data] # как раз-таки превращаем строки в вещественные числа (т.е. меняем тип данных)\n",
    "data1 = data1[::-1] # переворачиваем весь лист в обратном порядке, соответствующем хронологическому\n",
    "mean = 0 \n",
    "listx = [] \n",
    "for g in range(0, len(data1)-1): \n",
    "    sf = ((data1[g+1]-data1[g])/data1[g]) # считаем среднюю доходность в долях\n",
    "    listx.append(sf) \n",
    "mean = np.mean(listx) # считаем среднее через функцию numpy (хотя можно было и вручную)\n",
    "print(f\"Mean dollar: {mean}\") # выводим красиво значение с подписью, как было указано в ответах к дз\n",
    "listnew = [] \n",
    "for g in range(0, len(listx)): # для разнообразия посчитала стандартное отклонение вручную, а не через функцию numpy\n",
    "    sk = listx[g] - mean \n",
    "    sk = sk**2 \n",
    "    listnew.append(sk) \n",
    "dev = (sum(listnew)/(len(listnew)-1))**(1/2) \n",
    "print(f\"Standard deviation dollar: {dev}\")"
   ]
  },
  {
   "cell_type": "code",
   "execution_count": 146,
   "metadata": {},
   "outputs": [
    {
     "name": "stdout",
     "output_type": "stream",
     "text": [
      "Mean euro: 0.001133749485032416\n",
      "Standard deviation euro: 0.008552847950717164\n"
     ]
    }
   ],
   "source": [
    "# задание 3. Евро. Копируем код из предыдущего пункта с косметическим ремонтом в коде валюты, remove('Евро') + на всякий случай поменяла большинство переменных, тк они глобальные.\n",
    "\n",
    "import numpy as np\n",
    "import re \n",
    "import urllib.request \n",
    "from bs4 import BeautifulSoup \n",
    "url = 'https://cbr.ru/currency_base/dynamics/?UniDbQuery.Posted=True&UniDbQuery.so=1&UniDbQuery.mode=1&UniDbQuery%20date_req1=&UniDbQuery.date_req2=&UniDbQuery.VAL_NM_RQ=R01239&UniDbQuery.From=31.12.2022&UniDbQuery.To=31.12.2023' \n",
    "html = urllib.request.urlopen(url).read() \n",
    "soup = BeautifulSoup(html, 'html.parser') \n",
    "tags = soup.find_all('td') \n",
    "data2 = [] \n",
    "for tag in tags: \n",
    "    text = tag.get_text().replace('<td>1</td>', ' ').strip() \n",
    "    data2.append(text) \n",
    "data3 = [] \n",
    "for i in data2: \n",
    "    if i == '1' or i == 'Евро': \n",
    "        data2.remove(i)\n",
    "data2 = [q for q in data2 if '.' not in q] \n",
    "data2 = [v.replace(',', '.') for v in data2] \n",
    "data3 = [float(t) for t in data2]\n",
    "data3 = data3[::-1]\n",
    "mean = 0 \n",
    "listy = [] \n",
    "for g in range(0, len(data3)-1): \n",
    "    sf = ((data3[g+1]-data3[g])/data3[g])\n",
    "    listy.append(sf) \n",
    "mean = np.mean(listy) \n",
    "print(f\"Mean euro: {mean}\") \n",
    "listnew = [] \n",
    "for g in range(0, len(listy)): \n",
    "    sk = listy[g] - mean \n",
    "    sk = sk**2 \n",
    "    listnew.append(sk) \n",
    "dev = (sum(listnew)/(len(listnew)-1))**(1/2) \n",
    "print(f\"Standard deviation euro: {dev}\")"
   ]
  },
  {
   "cell_type": "code",
   "execution_count": null,
   "metadata": {},
   "outputs": [],
   "source": []
  }
 ],
 "metadata": {
  "kernelspec": {
   "display_name": "base",
   "language": "python",
   "name": "python3"
  },
  "language_info": {
   "codemirror_mode": {
    "name": "ipython",
    "version": 3
   },
   "file_extension": ".py",
   "mimetype": "text/x-python",
   "name": "python",
   "nbconvert_exporter": "python",
   "pygments_lexer": "ipython3",
   "version": "3.12.4"
  }
 },
 "nbformat": 4,
 "nbformat_minor": 2
}
